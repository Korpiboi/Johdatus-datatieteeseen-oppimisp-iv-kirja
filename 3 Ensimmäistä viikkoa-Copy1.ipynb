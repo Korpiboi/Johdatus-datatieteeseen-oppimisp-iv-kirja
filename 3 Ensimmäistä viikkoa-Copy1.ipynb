{
 "cells": [
  {
   "cell_type": "markdown",
   "id": "c495cc55-b3c4-4e31-bdde-e53556b79ea0",
   "metadata": {},
   "source": [
    "JodaTuni :D Päiväkirja\n",
    "\n",
    "1.\tKerro osallistuitko viikon opetukseen ja kuvaa päiväkirjan laatimisessa käyttämäsi aineisto.\n",
    "2.\tTiivistä jokaisen luentoviikon keskeiset asiat tekstiksi.\n",
    "3.\tKirjaa lisäksi ylös viisi oivallusta tai tärkeintä oppimaasi asiaa erilliseksi listaksi.\n",
    "4.\tListaa yhdestä kolmeen kehityskohdetta tai flippausvinkkiä luentoviikolle.\n",
    "5.\tKokoa noin kymmenen koodirivin demo viikon aikana oppimastasi."
   ]
  },
  {
   "cell_type": "markdown",
   "id": "875683f1-e822-4c36-8eb4-fe814e4ebada",
   "metadata": {},
   "source": [
    "Viikko 1:\n",
    "\n",
    "1)\n",
    "Ensimmäiselle luennolle en päässyt paikanpäälle. Sen sijasta katsoin Panoptosta kevään 2021 aloitusluennon. Katsoin myös vanhan koodiklinikan panoptosta.\n",
    "\n",
    "2)\n",
    "Ensimmäisellä luennolla kerrottiin aluksi kurssin historiasta ja tarkoituksesta. Seuraavaksi esiteltiin kurssin suoritusvaatimukset, eli harjoitustyö ja luentopäiväkirja. Luennolla käytiin läpi datatieteen perusteita, kuten mitä se edes tarkoittaa.\n",
    "Luennolla esiteltiin kurssilla opeteltavia python pohjaisia sovelluksia, kuten Jupyter, ja Pandas. Meille näytettiin myös mitä kannattaa ladata omalle koneelle, että tarvittavat sovellukset saadaan toimimaan. Itse latasin Anaconda Navigatorin luennon aikana. Kurssilla kuulemma koodataan ja sen osaaminen hyvin auttaa paljon. Toivon että muistan vielä jotain Johdatuksesta ohjelmointiin, jonka kävin viisi vuotta sitten.\n",
    "Perehdyimme siihen mitä tarkoittaa olla ”data scientist”, sekä datatieteen eroihin ja samanlaisuuksiin perinteisen tilastotieteen kanssa. Katsoimme useita kuvia, jotka havainnollistivat datatiedettä eri näkökulmista. \n",
    "Perjantaina katsoin vanhan koodiklinikka demon. Kirjoittelin itse Jupyterilla mukana ja testailin asioita. Opin paljon ja sovellus vaikutti hyödylliseltä ja helpolta käyttää. Opetus meni nopeasti tosin, minkä takia tallenne oli minulle hyvä.\n",
    "\n",
    "3)\n",
    "\n",
    "Viisi oivallusta luennolta:\n",
    "1. Koodaus on kurssilla huomattavasti tärkeämpää kuin oletin.\n",
    "2. Datatiede eroaa tilastotieteestä enemmän kuin kuvittelin. Luulin niiden olevan    lähes sama asia.\n",
    "3. Kurssi suoritetaan pelkästään harjoitustyöllä ja oppimispäiväkirjalla. Ei tenttiä.\n",
    "4. Jupyter vaikuttaa erittäin monikäyttöiseltä ja hyödyllisestä \n",
    "5. CSV tiedon muokkaaminen ja esittäminen on helppoa Jupyterilla\n",
    "\n",
    "4)\n",
    "Katsoin Panoptosta vanhan koodi demon. Siinä mentiin hyvin nopeasti eteenpäin omasta mielestä, mikä hankaloittaa oppimista, jos ei katso tallenteita. Hitaampi eteneminen auttaisi siis oppimista."
   ]
  },
  {
   "cell_type": "code",
   "execution_count": null,
   "id": "fd344990-afac-47bb-aebe-96c78c0eb992",
   "metadata": {},
   "outputs": [],
   "source": [
    "5)\n",
    "# Importataan kirjastoja\n",
    "import pandas as pd\n",
    "import matplotlib.pyplot as plt\n",
    "from matplotlib import style\n",
    "style.use('ggplot')\n",
    "\n",
    "# Käytettävien kirjastojen importtaamista. Kirjastoilla plotataan (matplotlib) ja luetaan/muokataan dataa (pandas)\n",
    "sivu = ’https://jokudatatiedosto.csv’\n",
    "originaali = pd.read_csv(sivu)\n",
    "tiedosto = originaali.copy()\n",
    "print('List of attributes:', tiedosto.columns.values.tolist())\n",
    "# Lukee halutun nettisivun csv muotoista tietoa ja tallentaa sen muuttujaan. Printtaa listan kolumnien attribuuteista\n",
    "\n",
    "tiedosto_plot = pd.DataFrame([[numero1, numero2, numero3, numero4]])\n",
    "tiedosto _plot.columns = ['Kategoria1', ' Kategoria2', ' Kategoria3', ' Kategoria4']\n",
    "tiedosto _plot.plot.bar(figsize=(10,7))\n",
    "plt.legend(loc=2)\n",
    "plt.ylabel('Sum $')\n",
    "plt.show()\n",
    "# Plottaa mitkä vaan numerot siististi."
   ]
  },
  {
   "cell_type": "markdown",
   "id": "8ceeae33-aeea-4746-bb99-4bc5fb7fbf46",
   "metadata": {},
   "source": [
    "Viikko 2:\n",
    "\n",
    "1)\n",
    "Tein samalla tavalla kuin ensimmäisellä viikolla, eli katsoin vanhan luennon ja koodiklinikan panoptosta. Jatkan varmaan tähän malliin, sillä kotona päiväkirjan kirjoittaminen samalla kun katsoo luentoa, tuntuu mukavammalta. Voin mennä taaksepäin, jos jotain menee ohi, kun kirjoitan.\n",
    "\n",
    "2)\n",
    "Luennon aiheisiin kuuluu erilaiset datalähteet, datan kerääminen, laadukkaan datan määritelmät ja ohjelmoinnin rajapinnat sekä ruudunraavinta.\n",
    "Luento alkaa datatieteen työprosessin kuvauksella. Neljä päävaihetta prosessissa ovat esikäsittely, analyysi, reflektio ja lopussa viestintä. Esikäsittelyyn eli datan keräämiseen ja siivoamiseen kuluu usein suurin osa ajasta. Reflektio ja analyysi toimivat vuorovaikutuksessa. Reflektion aikana voidaan muun muassa huomata tarve erilaiselle analyysille. Viestintä voi olla raportti tai vaikka PowerPoint-esitelmä yrityksen johdolle.\n",
    "ETL (Extract/Load/Transform) on datainsinöörien prosessi ja DAD (Discover/Access/Distill) datatieteen työprosessi. Erona on arvonluonnin tärkeys datalle. Insinööri keskittyy enemmän datan sujuvaan kulkemiseen.\n",
    "Analytiikan nelikenttä auttaa ymmärtämään data-analytiikan liiketoimintarelevanssia. Neljä kenttää ovat kuvaileva analytiikka, diagnosoiva analytiikka, ennakoiva analytiikka ja ohjaava analytiikka.\n",
    "Ryömijöitä ja raapijoita voi käyttää apuna datan käsittelyssä. Ryömijä käy läpi osoitteita verkossa. Ryömijöitä käytetään yleensä sivujen indeksointiin. Prosessi alkaa listalla verkkosivuista, joita ryömijä käy läpi ja etsii lisää hyperlinkkejä jatkaakseen prosessia. Raapija kerää tietoa sivuilta.\n",
    "Datatyyppejä on useita. Ohjelma käsittelee muuttajan tietoa datatyypin mukaan. Esimerkkejä datatyypeistä on kokonaisluvut, totuusarvot, listat, setit ja tuplet.\n",
    "\n",
    "3)\n",
    "Viisi oivallusta:\n",
    "1. Ryömijät ja raapijat ovat erittäin hyödyllisiä työkaluja datatieteessä.\n",
    "2. Ryömijöiden ja raapijoiden laillisuus ei ole täysin mustavalkoinen asia.\n",
    "3. Dataa voidaan tallentaa ihmisen luettavaksi, kuten ASCII, tai koneen luettavaksi binaaridataksi.\n",
    "4. Datan jalostaminen tarkoittaa datan siivoamista malliin, jossa sitä voidaan hyödyntää. Prosessi riippuu siis käyttötarkoituksesta.\n",
    "5. Pandas on hyvä työkalu datan jalostamisessa.\n",
    "\n",
    "4)\n",
    "Luennon Jupyter tiedostossa on mielestäni aivan liikaa dataa, mikä tekee luennon loppupuolesta raskaan ja hankalasti seurattavan."
   ]
  },
  {
   "cell_type": "code",
   "execution_count": null,
   "id": "fbf440f3-76bd-451a-a6e4-f97dcb4cf393",
   "metadata": {},
   "outputs": [],
   "source": [
    "5)\n",
    "# kuinka testata datatyyppiä\n",
    "nro =input(”Numero välillä 0-99?: ”)\n",
    "try:\n",
    "    print('Tulos:' + str(nro))\n",
    "except ValueError:\n",
    "    print(”Tämä ei ollut numero.”)\n",
    "\n",
    "# Scrapyn lataus ja käyttö amazonissa\n",
    "!pip install scrapy\n",
    "!scrapy genspider amazon_scraper amazon.com\n",
    "\n",
    "import scrapy\n",
    "class amazonscraper (scrapy.Spider):\n",
    "    name = 'amazon_scraper'\n",
    "    domains = ['amazon.com']\n",
    "    url = [https://www.amazon.com/mikavaanamazonsivu]\n",
    "#seuraavaksi scrapy tarvitsee ohjeet mitä tietoa kerätä ja mitä tehdä tiedolla."
   ]
  },
  {
   "cell_type": "markdown",
   "id": "28b02dbe-2edc-4f22-a1d7-aeafb5e74f39",
   "metadata": {},
   "source": [
    "Viikko 3:\n",
    "\n",
    "1)\n",
    "\n",
    "Jatkan samaan malliin, eli katson panoptosta etäluentoja. Käytän tosin nykyään enemmän aikaa Jupyter työkirjan lukemiseen ja katson luentoa, jos en ymmärrä jotain tai jokin asia jää epäselväksi.\n",
    "2)\n",
    "\n",
    "Tämän viikon luennon aiheina ovat koneoppiminen, tekoäly ja niiden sovellukset datatieteessä. Koneoppiminen voidaan jakaa ohjattuun, ohjaamattomaan, osittain ohjattuun ja vahvistettuun oppimiseen. Luennolla keskitytään erityisesti ohjattuun koneoppimiseen.\n",
    "Ohjatussa oppimisessa koneelle syötetään harjoitusdataa, josta kone muodostaa jonkinlaisin funktion. Data on input/output pareissa. Seuraavaksi kun koneelle syötetään pelkkää input dataa, se osaa ennustaa outputit. Ohjatussa oppimisessa siis oletetaan, että input ja output käyttäytyvät jonkin säännön mukaisesti toisiinsa nähden.\n",
    "Inputteja kutsutaan myös piirteiksi, ja ne ovat tärkeitä laskennallisessa analytiikassa. Piirre voi olla lähes mikä vaan muuttuja esim. sydämen iskutilavuus tai iskujen määrä minuutissa. Näistä piirteistä voitaisiin koneoppimisen avulla tehdä yksinkertaisia diagnooseja tai seuloja. Datatieteessä kuluu paljon aikaa datan siistimiseen, ja tämä on totta myös koneoppimisen parissa. Ihmisen tarvitsee aina siivota raakadata formattiin, jonka kone ymmärtää. Datalle tarvitsee myös usein tehdä prosesseja kuten standardisointi tai ulottuvuuksien lisääminen/vähentäminen, että tulokset olisivat luotettavia ja hyödyllisiä.\n",
    "Seuraavaksi menimme läpi esimerkin, jossa otettiin puhelinarvio ja sen sisältämää dataa tutkittiin. Esimerkissä eroteltiin arvion sanat toisistaan ja hukkasanat poistettiin. Plotattuna nähtiin selvästi, mitkä sanat olivat eniten käytössä. Erilaisilla operaatioilla voitiin analysoida arvion lauseenrakenteen ominaisuuksia ja sanojen tunnesävyä.\n",
    "3)\n",
    "\n",
    "Viisi oivallusta:\n",
    "1. Koneoppimista sovelletaan monella tapaa datatieteessä\n",
    "\n",
    "2. Koneoppiminen on ollut erittäin hyödyllinen työkalu lainojen riskin analysoinnissa.\n",
    "3. Ennusteiden tekeminen on joskus kiistanalainen asia esimerkiksi, jos rotu otetaan merkittäväksi tekijäksi. \n",
    "4. Koodissa käytetään erittäin paljon kirjastoja, ja ne kannattaa oppia hyvin.\n",
    "5. Datatieteessä on useita yleisiä virheitä, joita tulee välttää. Esimerkiksi cherry picking ja gambler’s fallacy.\n",
    "\n",
    "4)\n",
    "Omasta mielestäni luennot menevät eteenpäin liian nopeasti ja työkirjoissa on erittäin paljon ylimääräisiä linkkejä, mikä vie motivaatiota opiskelulta. En koe mielenkiintoa klikata yhtäkään linkkiä, joka syventäisi mitään aihetta, kun joutuisin äkkiä kuluttamaan 5 tuntia pelkästään yhdellä luennolla."
   ]
  },
  {
   "cell_type": "code",
   "execution_count": null,
   "id": "965b41bb-6b99-4227-89f4-1f70d903a8c1",
   "metadata": {},
   "outputs": [],
   "source": [
    "5)\n",
    "import nltk\n",
    "nltk.download('punkt')\n",
    "import matplotlib.pyplot as plt\n",
    "from nltk.probability import FreqDist\n",
    "teksti = (”Mitä vaan tekstiä, jota halutaan analysoida”)\n",
    "from nltk.tokenize import word_tokenize\n",
    "tokenit=word_tokenize(teksti)\n",
    "print(tokenit)\n",
    "# Tästä tulisi ulos ['Mitä', 'vaan', 'tekstiä,', 'jota', 'halutaan', 'analysoida']\n",
    "# Seuraavaksi plotti\n",
    "jakauma = FreqDist(tokenit)\n",
    "jakauma.plot(20, cumulative=False)\n",
    "plt.show()\n",
    "# Alle ilmestyisi kuvaaja sanojen yleisyydestä tekstissä"
   ]
  }
 ],
 "metadata": {
  "kernelspec": {
   "display_name": "Python 3 (ipykernel)",
   "language": "python",
   "name": "python3"
  },
  "language_info": {
   "codemirror_mode": {
    "name": "ipython",
    "version": 3
   },
   "file_extension": ".py",
   "mimetype": "text/x-python",
   "name": "python",
   "nbconvert_exporter": "python",
   "pygments_lexer": "ipython3",
   "version": "3.9.7"
  }
 },
 "nbformat": 4,
 "nbformat_minor": 5
}
