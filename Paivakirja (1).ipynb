{
 "cells": [
  {
   "cell_type": "markdown",
   "id": "c495cc55-b3c4-4e31-bdde-e53556b79ea0",
   "metadata": {},
   "source": [
    "JodaTuni :D Päiväkirja\n",
    "\n",
    "1.\tKerro osallistuitko viikon opetukseen ja kuvaa päiväkirjan laatimisessa käyttämäsi aineisto.\n",
    "2.\tTiivistä jokaisen luentoviikon keskeiset asiat tekstiksi.\n",
    "3.\tKirjaa lisäksi ylös viisi oivallusta tai tärkeintä oppimaasi asiaa erilliseksi listaksi.\n",
    "4.\tListaa yhdestä kolmeen kehityskohdetta tai flippausvinkkiä luentoviikolle.\n",
    "5.\tKokoa noin kymmenen koodirivin demo viikon aikana oppimastasi."
   ]
  },
  {
   "cell_type": "markdown",
   "id": "875683f1-e822-4c36-8eb4-fe814e4ebada",
   "metadata": {},
   "source": [
    "Viikko 1:\n",
    "\n",
    "1)\n",
    "Ensimmäiselle luennolle en päässyt paikanpäälle. Sen sijasta katsoin Panoptosta kevään 2021 aloitusluennon. Katsoin myös vanhan koodiklinikan panoptosta.\n",
    "\n",
    "2)\n",
    "Ensimmäisellä luennolla kerrottiin aluksi kurssin historiasta ja tarkoituksesta. Seuraavaksi esiteltiin kurssin suoritusvaatimukset, eli harjoitustyö ja luentopäiväkirja. Luennolla käytiin läpi datatieteen perusteita, kuten mitä se edes tarkoittaa.\n",
    "Luennolla esiteltiin kurssilla opeteltavia python pohjaisia sovelluksia, kuten Jupyter, ja Pandas. Meille näytettiin myös mitä kannattaa ladata omalle koneelle, että tarvittavat sovellukset saadaan toimimaan. Itse latasin Anaconda Navigatorin luennon aikana. Kurssilla kuulemma koodataan ja sen osaaminen hyvin auttaa paljon. Toivon että muistan vielä jotain Johdatuksesta ohjelmointiin, jonka kävin viisi vuotta sitten.\n",
    "Perehdyimme siihen mitä tarkoittaa olla ”data scientist”, sekä datatieteen eroihin ja samanlaisuuksiin perinteisen tilastotieteen kanssa. Katsoimme useita kuvia, jotka havainnollistivat datatiedettä eri näkökulmista. \n",
    "Perjantaina katsoin vanhan koodiklinikka demon. Kirjoittelin itse Jupyterilla mukana ja testailin asioita. Opin paljon ja sovellus vaikutti hyödylliseltä ja helpolta käyttää. Opetus meni nopeasti tosin, minkä takia tallenne oli minulle hyvä.\n",
    "\n",
    "3)\n",
    "\n",
    "Viisi oivallusta luennolta:\n",
    "1. Koodaus on kurssilla huomattavasti tärkeämpää kuin oletin.\n",
    "2. Datatiede eroaa tilastotieteestä enemmän kuin kuvittelin. Luulin niiden olevan    lähes sama asia.\n",
    "3. Kurssi suoritetaan pelkästään harjoitustyöllä ja oppimispäiväkirjalla. Ei tenttiä.\n",
    "4. Jupyter vaikuttaa erittäin monikäyttöiseltä ja hyödyllisestä \n",
    "5. CSV tiedon muokkaaminen ja esittäminen on helppoa Jupyterilla\n",
    "\n",
    "4)\n",
    "Katsoin Panoptosta vanhan koodi demon. Siinä mentiin hyvin nopeasti eteenpäin omasta mielestä, mikä hankaloittaa oppimista, jos ei katso tallenteita. Hitaampi eteneminen auttaisi siis oppimista.\n",
    "\n",
    "5)"
   ]
  },
  {
   "cell_type": "code",
   "execution_count": 41,
   "id": "fd344990-afac-47bb-aebe-96c78c0eb992",
   "metadata": {},
   "outputs": [
    {
     "name": "stdout",
     "output_type": "stream",
     "text": [
      "Kolumnit: ['Transaction_date', 'Product', 'Price', 'Payment_Type', 'Name', 'City', 'State', 'Country', 'Account_Created', 'Last_Login', 'Latitude', 'Longitude']\n",
      "<class 'pandas.core.frame.DataFrame'>\n",
      "RangeIndex: 1000 entries, 0 to 999\n",
      "Data columns (total 12 columns):\n",
      " #   Column            Non-Null Count  Dtype         \n",
      "---  ------            --------------  -----         \n",
      " 0   Transaction_date  1000 non-null   datetime64[ns]\n",
      " 1   Product           1000 non-null   object        \n",
      " 2   Price             1000 non-null   int64         \n",
      " 3   Payment_Type      1000 non-null   object        \n",
      " 4   Name              1000 non-null   object        \n",
      " 5   City              1000 non-null   object        \n",
      " 6   State             999 non-null    object        \n",
      " 7   Country           1000 non-null   object        \n",
      " 8   Account_Created   1000 non-null   datetime64[ns]\n",
      " 9   Last_Login        1000 non-null   datetime64[ns]\n",
      " 10  Latitude          1000 non-null   float64       \n",
      " 11  Longitude         1000 non-null   float64       \n",
      "dtypes: datetime64[ns](3), float64(2), int64(1), object(6)\n",
      "memory usage: 93.9+ KB\n"
     ]
    }
   ],
   "source": [
    "\n",
    "# Importataan kirjastoja.\n",
    "import pandas as pd\n",
    "\n",
    "# Lukee halutun nettisivun csv muotoista tietoa ja tallentaa sen muuttujaan. Printtaa listan kolumnien attribuuteista.\n",
    "url = 'https://github.com/jodatut/2020/raw/master/koodiesimerkit/SalesJan2009.csv'\n",
    "originaali = pd.read_csv(url)\n",
    "tiedosto = originaali.copy()\n",
    "print('Kolumnit:', tiedosto.columns.values.tolist())\n",
    "\n",
    "# Muokataan datan tyyppejä objekteista päivämääriin.\n",
    "\n",
    "tiedosto['Transaction_date'] = pd.to_datetime(tiedosto['Transaction_date'])\n",
    "tiedosto['Account_Created'] = pd.to_datetime(tiedosto['Account_Created'])\n",
    "tiedosto['Last_Login'] = pd.to_datetime(tiedosto['Last_Login'])\n",
    "\n",
    "# Käsky kuvailee dataa.\n",
    "tiedosto.info()\n"
   ]
  },
  {
   "cell_type": "markdown",
   "id": "8ceeae33-aeea-4746-bb99-4bc5fb7fbf46",
   "metadata": {},
   "source": [
    "Viikko 2:\n",
    "\n",
    "1)\n",
    "Tein samalla tavalla kuin ensimmäisellä viikolla, eli katsoin vanhan luennon ja koodiklinikan panoptosta. Jatkan varmaan tähän malliin, sillä kotona päiväkirjan kirjoittaminen samalla kun katsoo luentoa, tuntuu mukavammalta. Voin mennä taaksepäin, jos jotain menee ohi, kun kirjoitan.\n",
    "\n",
    "2)\n",
    "Luennon aiheisiin kuuluu erilaiset datalähteet, datan kerääminen, laadukkaan datan määritelmät ja ohjelmoinnin rajapinnat sekä ruudunraavinta.\n",
    "Luento alkaa datatieteen työprosessin kuvauksella. Neljä päävaihetta prosessissa ovat esikäsittely, analyysi, reflektio ja lopussa viestintä. Esikäsittelyyn eli datan keräämiseen ja siivoamiseen kuluu usein suurin osa ajasta. Reflektio ja analyysi toimivat vuorovaikutuksessa. Reflektion aikana voidaan muun muassa huomata tarve erilaiselle analyysille. Viestintä voi olla raportti tai vaikka PowerPoint-esitelmä yrityksen johdolle.\n",
    "ETL (Extract/Load/Transform) on datainsinöörien prosessi ja DAD (Discover/Access/Distill) datatieteen työprosessi. Erona on arvonluonnin tärkeys datalle. Insinööri keskittyy enemmän datan sujuvaan kulkemiseen.\n",
    "Analytiikan nelikenttä auttaa ymmärtämään data-analytiikan liiketoimintarelevanssia. Neljä kenttää ovat kuvaileva analytiikka, diagnosoiva analytiikka, ennakoiva analytiikka ja ohjaava analytiikka.\n",
    "Ryömijöitä ja raapijoita voi käyttää apuna datan käsittelyssä. Ryömijä käy läpi osoitteita verkossa. Ryömijöitä käytetään yleensä sivujen indeksointiin. Prosessi alkaa listalla verkkosivuista, joita ryömijä käy läpi ja etsii lisää hyperlinkkejä jatkaakseen prosessia. Raapija kerää tietoa sivuilta.\n",
    "Datatyyppejä on useita. Ohjelma käsittelee muuttajan tietoa datatyypin mukaan. Esimerkkejä datatyypeistä on kokonaisluvut, totuusarvot, listat, setit ja tuplet.\n",
    "\n",
    "3)\n",
    "Viisi oivallusta:\n",
    "1. Ryömijät ja raapijat ovat erittäin hyödyllisiä työkaluja datatieteessä.\n",
    "2. Ryömijöiden ja raapijoiden laillisuus ei ole täysin mustavalkoinen asia.\n",
    "3. Dataa voidaan tallentaa ihmisen luettavaksi, kuten ASCII, tai koneen luettavaksi binaaridataksi.\n",
    "4. Datan jalostaminen tarkoittaa datan siivoamista malliin, jossa sitä voidaan hyödyntää. Prosessi riippuu siis käyttötarkoituksesta.\n",
    "5. Pandas on hyvä työkalu datan jalostamisessa.\n",
    "\n",
    "4)\n",
    "Luennon Jupyter tiedostossa on mielestäni aivan liikaa dataa, mikä tekee luennon loppupuolesta raskaan ja hankalasti seurattavan.\n",
    "\n",
    "5)"
   ]
  },
  {
   "cell_type": "code",
   "execution_count": 29,
   "id": "fbf440f3-76bd-451a-a6e4-f97dcb4cf393",
   "metadata": {},
   "outputs": [
    {
     "name": "stdin",
     "output_type": "stream",
     "text": [
      "Numero välillä 0-99?:  6\n"
     ]
    },
    {
     "name": "stdout",
     "output_type": "stream",
     "text": [
      "Tulos:6\n",
      "Requirement already satisfied: scrapy in c:\\users\\teemu\\anaconda3\\lib\\site-packages (2.6.1)\n",
      "Requirement already satisfied: queuelib>=1.4.2 in c:\\users\\teemu\\anaconda3\\lib\\site-packages (from scrapy) (1.6.2)\n",
      "Requirement already satisfied: cryptography>=2.0 in c:\\users\\teemu\\anaconda3\\lib\\site-packages (from scrapy) (3.4.8)\n",
      "Requirement already satisfied: w3lib>=1.17.0 in c:\\users\\teemu\\anaconda3\\lib\\site-packages (from scrapy) (1.22.0)\n",
      "Requirement already satisfied: setuptools in c:\\users\\teemu\\anaconda3\\lib\\site-packages (from scrapy) (58.0.4)\n",
      "Requirement already satisfied: cssselect>=0.9.1 in c:\\users\\teemu\\anaconda3\\lib\\site-packages (from scrapy) (1.1.0)\n",
      "Requirement already satisfied: tldextract in c:\\users\\teemu\\anaconda3\\lib\\site-packages (from scrapy) (3.3.0)\n",
      "Requirement already satisfied: lxml>=3.5.0 in c:\\users\\teemu\\anaconda3\\lib\\site-packages (from scrapy) (4.6.3)\n",
      "Requirement already satisfied: zope.interface>=4.1.3 in c:\\users\\teemu\\anaconda3\\lib\\site-packages (from scrapy) (5.4.0)\n",
      "Requirement already satisfied: pyOpenSSL>=16.2.0 in c:\\users\\teemu\\anaconda3\\lib\\site-packages (from scrapy) (21.0.0)\n",
      "Requirement already satisfied: service-identity>=16.0.0 in c:\\users\\teemu\\anaconda3\\lib\\site-packages (from scrapy) (21.1.0)\n",
      "Requirement already satisfied: protego>=0.1.15 in c:\\users\\teemu\\anaconda3\\lib\\site-packages (from scrapy) (0.2.1)\n",
      "Requirement already satisfied: Twisted>=17.9.0 in c:\\users\\teemu\\anaconda3\\lib\\site-packages (from scrapy) (22.4.0)\n",
      "Requirement already satisfied: itemloaders>=1.0.1 in c:\\users\\teemu\\anaconda3\\lib\\site-packages (from scrapy) (1.0.4)\n",
      "Requirement already satisfied: parsel>=1.5.0 in c:\\users\\teemu\\anaconda3\\lib\\site-packages (from scrapy) (1.6.0)\n",
      "Requirement already satisfied: itemadapter>=0.1.0 in c:\\users\\teemu\\anaconda3\\lib\\site-packages (from scrapy) (0.5.0)\n",
      "Requirement already satisfied: PyDispatcher>=2.0.5 in c:\\users\\teemu\\anaconda3\\lib\\site-packages (from scrapy) (2.0.5)\n",
      "Requirement already satisfied: cffi>=1.12 in c:\\users\\teemu\\anaconda3\\lib\\site-packages (from cryptography>=2.0->scrapy) (1.14.6)\n",
      "Requirement already satisfied: pycparser in c:\\users\\teemu\\anaconda3\\lib\\site-packages (from cffi>=1.12->cryptography>=2.0->scrapy) (2.20)\n",
      "Requirement already satisfied: jmespath>=0.9.5 in c:\\users\\teemu\\anaconda3\\lib\\site-packages (from itemloaders>=1.0.1->scrapy) (1.0.0)\n",
      "Requirement already satisfied: six>=1.6.0 in c:\\users\\teemu\\anaconda3\\lib\\site-packages (from parsel>=1.5.0->scrapy) (1.16.0)\n",
      "Requirement already satisfied: pyasn1 in c:\\users\\teemu\\anaconda3\\lib\\site-packages (from service-identity>=16.0.0->scrapy) (0.4.8)\n",
      "Requirement already satisfied: pyasn1-modules in c:\\users\\teemu\\anaconda3\\lib\\site-packages (from service-identity>=16.0.0->scrapy) (0.2.8)\n",
      "Requirement already satisfied: attrs>=19.1.0 in c:\\users\\teemu\\anaconda3\\lib\\site-packages (from service-identity>=16.0.0->scrapy) (21.2.0)\n",
      "Requirement already satisfied: hyperlink>=17.1.1 in c:\\users\\teemu\\anaconda3\\lib\\site-packages (from Twisted>=17.9.0->scrapy) (21.0.0)\n",
      "Requirement already satisfied: constantly>=15.1 in c:\\users\\teemu\\anaconda3\\lib\\site-packages (from Twisted>=17.9.0->scrapy) (15.1.0)\n",
      "Requirement already satisfied: typing-extensions>=3.6.5 in c:\\users\\teemu\\anaconda3\\lib\\site-packages (from Twisted>=17.9.0->scrapy) (3.10.0.2)\n",
      "Requirement already satisfied: twisted-iocpsupport<2,>=1.0.2 in c:\\users\\teemu\\anaconda3\\lib\\site-packages (from Twisted>=17.9.0->scrapy) (1.0.2)\n",
      "Requirement already satisfied: incremental>=21.3.0 in c:\\users\\teemu\\anaconda3\\lib\\site-packages (from Twisted>=17.9.0->scrapy) (21.3.0)\n",
      "Requirement already satisfied: Automat>=0.8.0 in c:\\users\\teemu\\anaconda3\\lib\\site-packages (from Twisted>=17.9.0->scrapy) (20.2.0)\n",
      "Requirement already satisfied: idna>=2.5 in c:\\users\\teemu\\anaconda3\\lib\\site-packages (from hyperlink>=17.1.1->Twisted>=17.9.0->scrapy) (3.2)\n",
      "Requirement already satisfied: filelock>=3.0.8 in c:\\users\\teemu\\anaconda3\\lib\\site-packages (from tldextract->scrapy) (3.3.1)\n",
      "Requirement already satisfied: requests-file>=1.4 in c:\\users\\teemu\\anaconda3\\lib\\site-packages (from tldextract->scrapy) (1.5.1)\n",
      "Requirement already satisfied: requests>=2.1.0 in c:\\users\\teemu\\anaconda3\\lib\\site-packages (from tldextract->scrapy) (2.26.0)\n",
      "Requirement already satisfied: charset-normalizer~=2.0.0 in c:\\users\\teemu\\anaconda3\\lib\\site-packages (from requests>=2.1.0->tldextract->scrapy) (2.0.4)\n",
      "Requirement already satisfied: urllib3<1.27,>=1.21.1 in c:\\users\\teemu\\anaconda3\\lib\\site-packages (from requests>=2.1.0->tldextract->scrapy) (1.26.7)\n",
      "Requirement already satisfied: certifi>=2017.4.17 in c:\\users\\teemu\\anaconda3\\lib\\site-packages (from requests>=2.1.0->tldextract->scrapy) (2021.10.8)\n",
      "C:\\Users\\Teemu\\amazon_scraper.py already exists\n"
     ]
    }
   ],
   "source": [
    "# kuinka testata datatyyppiä\n",
    "nro =input('Numero välillä 0-99?: ')\n",
    "try:\n",
    "    print('Tulos:' + str(nro))\n",
    "except ValueError:\n",
    "    print('Tämä ei ollut numero.')\n",
    "\n",
    "# Scrapyn lataus ja käyttö amazonissa\n",
    "!pip install scrapy\n",
    "!scrapy genspider amazon_scraper amazon.com\n",
    "\n",
    "import scrapy\n",
    "class amazonscraper (scrapy.Spider):\n",
    "    name = 'amazon_scraper'\n",
    "    domains = ['amazon.com']\n",
    "    url = ['https://www.amazon.com/Ariel-Non-alcoholic-Wine-Two-Pack/dp/B00QL013ZO/ref=sr_1_2?c=ts&keywords=Wine&qid=1652116612&s=wine&sr=1-2&ts_id=2983386011']\n",
    "#seuraavaksi scrapy tarvitsee ohjeet mitä tietoa kerätä ja mitä tehdä tiedolla."
   ]
  },
  {
   "cell_type": "markdown",
   "id": "28b02dbe-2edc-4f22-a1d7-aeafb5e74f39",
   "metadata": {},
   "source": [
    "Viikko 3:\n",
    "\n",
    "1)\n",
    "\n",
    "Jatkan samaan malliin, eli katson panoptosta etäluentoja. Käytän tosin nykyään enemmän aikaa Jupyter työkirjan lukemiseen ja katson luentoa, jos en ymmärrä jotain tai jokin asia jää epäselväksi.\n",
    "\n",
    "2)\n",
    "\n",
    "Tämän viikon luennon aiheina ovat koneoppiminen, tekoäly ja niiden sovellukset datatieteessä. Koneoppiminen voidaan jakaa ohjattuun, ohjaamattomaan, osittain ohjattuun ja vahvistettuun oppimiseen. Luennolla keskitytään erityisesti ohjattuun koneoppimiseen.\n",
    "Ohjatussa oppimisessa koneelle syötetään harjoitusdataa, josta kone muodostaa jonkinlaisin funktion. Data on input/output pareissa. Seuraavaksi kun koneelle syötetään pelkkää input dataa, se osaa ennustaa outputit. Ohjatussa oppimisessa siis oletetaan, että input ja output käyttäytyvät jonkin säännön mukaisesti toisiinsa nähden.\n",
    "Inputteja kutsutaan myös piirteiksi, ja ne ovat tärkeitä laskennallisessa analytiikassa. Piirre voi olla lähes mikä vaan muuttuja esim. sydämen iskutilavuus tai iskujen määrä minuutissa. Näistä piirteistä voitaisiin koneoppimisen avulla tehdä yksinkertaisia diagnooseja tai seuloja. Datatieteessä kuluu paljon aikaa datan siistimiseen, ja tämä on totta myös koneoppimisen parissa. Ihmisen tarvitsee aina siivota raakadata formattiin, jonka kone ymmärtää. Datalle tarvitsee myös usein tehdä prosesseja kuten standardisointi tai ulottuvuuksien lisääminen/vähentäminen, että tulokset olisivat luotettavia ja hyödyllisiä.\n",
    "Seuraavaksi menimme läpi esimerkin, jossa otettiin puhelinarvio ja sen sisältämää dataa tutkittiin. Esimerkissä eroteltiin arvion sanat toisistaan ja hukkasanat poistettiin. Plotattuna nähtiin selvästi, mitkä sanat olivat eniten käytössä. Erilaisilla operaatioilla voitiin analysoida arvion lauseenrakenteen ominaisuuksia ja sanojen tunnesävyä.\n",
    "\n",
    "3)\n",
    "\n",
    "Viisi oivallusta:\n",
    "1. Koneoppimista sovelletaan monella tapaa datatieteessä\n",
    "\n",
    "2. Koneoppiminen on ollut erittäin hyödyllinen työkalu lainojen riskin analysoinnissa.\n",
    "3. Ennusteiden tekeminen on joskus kiistanalainen asia esimerkiksi, jos rotu otetaan merkittäväksi tekijäksi. \n",
    "4. Koodissa käytetään erittäin paljon kirjastoja, ja ne kannattaa oppia hyvin.\n",
    "5. Datatieteessä on useita yleisiä virheitä, joita tulee välttää. Esimerkiksi cherry picking ja gambler’s fallacy.\n",
    "\n",
    "4)\n",
    "Omasta mielestäni luennot menevät eteenpäin liian nopeasti ja työkirjoissa on erittäin paljon ylimääräisiä linkkejä, mikä vie motivaatiota opiskelulta. En koe mielenkiintoa klikata yhtäkään linkkiä, joka syventäisi mitään aihetta, kun joutuisin äkkiä kuluttamaan 5 tuntia pelkästään yhdellä luennolla.\n",
    "\n",
    "5)"
   ]
  },
  {
   "cell_type": "code",
   "execution_count": 30,
   "id": "965b41bb-6b99-4227-89f4-1f70d903a8c1",
   "metadata": {},
   "outputs": [
    {
     "name": "stdout",
     "output_type": "stream",
     "text": [
      "['Mitä', 'vaan', 'tekstiä', ',', 'jota', 'halutaan', 'analysoida', '.', 'Moi', 'Moi', 'Jee', 'Jee', 'Jee']\n"
     ]
    },
    {
     "name": "stderr",
     "output_type": "stream",
     "text": [
      "[nltk_data] Downloading package punkt to\n",
      "[nltk_data]     C:\\Users\\Teemu\\AppData\\Roaming\\nltk_data...\n",
      "[nltk_data]   Package punkt is already up-to-date!\n"
     ]
    },
    {
     "data": {
      "image/png": "[encoded data removed]",
      "text/plain": [
       "<Figure size 432x288 with 1 Axes>"
      ]
     },
     "metadata": {},
     "output_type": "display_data"
    }
   ],
   "source": [
    "import nltk\n",
    "nltk.download('punkt')\n",
    "import matplotlib.pyplot as plt\n",
    "from nltk.probability import FreqDist\n",
    "\n",
    "#Luodaan kuvaaja sanojen yleisyydelle tekstissä.\n",
    "\n",
    "teksti = ('Mitä vaan tekstiä, jota halutaan analysoida. Moi Moi Jee Jee Jee')\n",
    "from nltk.tokenize import word_tokenize\n",
    "tokenit=word_tokenize(teksti)\n",
    "print(tokenit)\n",
    "# Seuraavaksi plotti\n",
    "jakauma = FreqDist(tokenit)\n",
    "jakauma.plot(20, cumulative=False)\n",
    "plt.show()\n",
    "# Alle ilmestyisi kuvaaja sanojen yleisyydestä tekstissä"
   ]
  },
  {
   "cell_type": "markdown",
   "id": "c2039fa5-bd16-4c24-aaac-930b275191e2",
   "metadata": {},
   "source": [
    "Viikko 4:\n",
    "\n",
    "1)\n",
    "Katsoin taas jälkeenpäin luentotallenteita.\n",
    "\n",
    "2)\n",
    "Tämän viikon luennon aiheena on harjoitustyöhön syventyminen. Luennolla tutustutaan datatieteen prosessien käytäntöihin, suunnittelumalleihin ja harjoitustyön suorittamiseen.\n",
    "Yleisin prosessimalli, jota käytetään datatieteessä on CRISP-DM. CRISP-DM eli cross-industry standard process for data mining on malli, joka kuvailee tavallisia lähestymistapoja datatieteeseen. CRISP-DM:ään kuuluu kuusi päävaihetta. Kuusi vaihetta ovat: liiketoiminnan ymmärtäminen, datan ymmärtäminen, datan valmistelu, mallinnus, arviointi ja käyttöön otto. Tärkeää CRISP-DM mallissa on se, että eri vaiheet eivät liiku tiukassa järjestyksessä vaan vuorovaikuttavat toisiinsa. Eri vaiheiden välillä voi liikkua lähes vapaasti.\n",
    "Luennolla käydään läpi harjoitustyötä. Mahdollisuusnelikolla kartoitetaan projektin ääriviivoja. Tärkeää projektissa on heti alussa keksiä liiketoiminnallisesti järkevä aihe, sillä oikean maailman datatiedettä hyödynnetään liiketoimminnalisten ongelmien ratkaisuun. Luennolla neuvotaan harjoitustyön aloittamisesta ja datan hankinnasta. Itse hankin datan insedeAirbnb sivustolta. Vaihtoehtoina on myös Kaggle tai omien raapijoiden/ryömijöiden hyödyntäminen.\n",
    "\n",
    "3)\n",
    "Viisi oivallusta:\n",
    "1. Harjoitustyössä suositellaan Airbnb-esimerkin tyylistä toteutusta. Lähdin itse aluksi tekemään aivan omaa projektia, mikä vaikutti aivan liian hankalalta. Airbnb-projekti onnistui paljon sujuvammin, koska luentomateriaaleissa on hyviä esimerkkejä.\n",
    "2. CRISP-DM on kaikkein eniten käyetty malli.\n",
    "3. Kaikenkaikkiaan harjoitustyö vaikuttaa helpommalta kuin aluksi pelkäsin.\n",
    "4. Harjoitustyöstä täytyy tehdä erikseen palautukset Slackiin. Pelkkä harjoitustyön palautus ei riitä.\n",
    "5. Tärkeintä datatieteessä on ymmärtää projektin tarkoitus liiketoiminnan kannalta.\n",
    "\n",
    "4)\n",
    "Luentotallenteessa käytettiin mielestäni liikaa aikaa yhteiseen tekemiseen ja ideoiden heittelyyn. Omasta mielestäni hyödyllisempää olisi vain käydä esimerkki harjoitustöitä läpi.\n"
   ]
  },
  {
   "cell_type": "code",
   "execution_count": 42,
   "id": "a33140f6-9c38-4caf-8181-ced2c0bd3935",
   "metadata": {},
   "outputs": [
    {
     "name": "stdout",
     "output_type": "stream",
     "text": [
      "<class 'pandas.core.frame.DataFrame'>\n",
      "Int64Index: 999 entries, 0 to 999\n",
      "Data columns (total 8 columns):\n",
      " #   Column            Non-Null Count  Dtype         \n",
      "---  ------            --------------  -----         \n",
      " 0   Transaction_date  999 non-null    datetime64[ns]\n",
      " 1   Product           999 non-null    object        \n",
      " 2   Price             999 non-null    int64         \n",
      " 3   Payment_Type      999 non-null    object        \n",
      " 4   Account_Created   999 non-null    datetime64[ns]\n",
      " 5   Last_Login        999 non-null    datetime64[ns]\n",
      " 6   Latitude          999 non-null    float64       \n",
      " 7   Longitude         999 non-null    float64       \n",
      "dtypes: datetime64[ns](3), float64(2), int64(1), object(2)\n",
      "memory usage: 70.2+ KB\n",
      "<class 'pandas.core.frame.DataFrame'>\n",
      "Int64Index: 999 entries, 0 to 999\n",
      "Data columns (total 4 columns):\n",
      " #   Column      Non-Null Count  Dtype\n",
      "---  ------      --------------  -----\n",
      " 0   Amex        999 non-null    uint8\n",
      " 1   Diners      999 non-null    uint8\n",
      " 2   Mastercard  999 non-null    uint8\n",
      " 3   Visa        999 non-null    uint8\n",
      "dtypes: uint8(4)\n",
      "memory usage: 11.7 KB\n"
     ]
    }
   ],
   "source": [
    "import numpy as np\n",
    "\n",
    "# Poistetaan tyhjä rivi.\n",
    "tiedosto = tiedosto.dropna()\n",
    "\n",
    "# Poistetaan ylimääräisiä kolumneja.\n",
    "\n",
    "poistoon = ['Name', 'City', 'State', 'Country']\n",
    "tiedosto = tiedosto.drop(poistoon, axis=1)\n",
    "tiedosto.info()\n",
    "\n",
    "# Muutetaan kategorinen data luettavaan muotoon.\n",
    "\n",
    "tiedosto2 = pd.get_dummies(tiedosto['Payment_Type'])\n",
    "\n",
    "tiedosto2.info()"
   ]
  },
  {
   "cell_type": "code",
   "execution_count": null,
   "id": "ad472d67-021c-44d3-b5ad-41e7c8081e78",
   "metadata": {},
   "outputs": [],
   "source": []
  }
 ],
 "metadata": {
  "kernelspec": {
   "display_name": "Python 3 (ipykernel)",
   "language": "python",
   "name": "python3"
  },
  "language_info": {
   "codemirror_mode": {
    "name": "ipython",
    "version": 3
   },
   "file_extension": ".py",
   "mimetype": "text/x-python",
   "name": "python",
   "nbconvert_exporter": "python",
   "pygments_lexer": "ipython3",
   "version": "3.9.7"
  }
 },
 "nbformat": 4,
 "nbformat_minor": 5
}
